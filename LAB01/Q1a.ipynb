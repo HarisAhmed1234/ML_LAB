import pandas as pd
import numpy as np
data = np.array([
    [50, 4, 5, 8, 70],
    [30, 3, 4, 6, 60],
    [70, 6, 7, 12, 85],
    [55, 5, 5, 9, 75],
    [20, 2, 3, 4, 50],
    [80, 7, 8, 15, 90],
    [40, 4, 4, 7, 65],
    [65, 6, 6, 11, 82],
    [35, 3, 4, 5, 55],
    [45, 5, 5, 9, 72]
])
columns = ['test_score', 'writing_skills', 'reading_skills', 'study_hours', 'attendance']
df = pd.DataFrame(data, columns=columns)
print(df)
